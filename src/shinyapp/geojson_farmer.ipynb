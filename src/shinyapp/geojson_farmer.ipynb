{
 "cells": [
  {
   "cell_type": "code",
   "execution_count": 4,
   "id": "4a96cfc8",
   "metadata": {},
   "outputs": [
    {
     "data": {
      "text/plain": [
       "['belgium_2022',\n",
       " 'sardegna_2022',\n",
       " 'nzl_2022',\n",
       " 'kenya_2022',\n",
       " 'estonia_2022',\n",
       " 'japan_2022',\n",
       " 'portugal_2022',\n",
       " 'croatia_2022',\n",
       " 'greece_2022',\n",
       " 'spain_2022',\n",
       " 'finland_2022',\n",
       " 'sweden_2022',\n",
       " 'montecarlo_2023',\n",
       " 'sweden_2023',\n",
       " 'mexico_2023',\n",
       " 'croatia_2023',\n",
       " 'portugal_2023',\n",
       " 'sardegna_2023',\n",
       " 'kenya_2023',\n",
       " 'estonia_2023',\n",
       " 'finland_2023',\n",
       " 'greece_2023',\n",
       " 'chile_2023',\n",
       " 'cer_2023',\n",
       " 'japan_2023',\n",
       " 'montecarlo_2024',\n",
       " 'sweden_2024',\n",
       " 'kenya_2024',\n",
       " 'croatia_2024',\n",
       " 'portugal_2024',\n",
       " 'sardegna_2024',\n",
       " 'poland_2024',\n",
       " 'latvia_2024',\n",
       " 'finland_2024',\n",
       " 'greece_2024',\n",
       " 'chile_2024',\n",
       " 'cer_2024',\n",
       " 'japan_2024',\n",
       " 'montecarlo_2025',\n",
       " 'sweden_2025',\n",
       " 'kenya_2025',\n",
       " 'canarias_2025',\n",
       " 'portugal_2025',\n",
       " 'sardegna_2025',\n",
       " 'greece_2025',\n",
       " 'estonia_2025',\n",
       " 'finland_2025',\n",
       " 'paraguay_2025']"
      ]
     },
     "execution_count": 4,
     "metadata": {},
     "output_type": "execute_result"
    }
   ],
   "source": [
    "url=\"https://webappsdata.wrc.com/srv/wrc/json/api/wrcsrv/queryMeta?t=%22Event%22&p=%7B%22n%22%3A%22category%22%2C%22v%22%3A%22WRC%22%7D&maxdepth=1\"\n",
    "\n",
    "import requests\n",
    "feed = requests.get(url).json()\n",
    "geo_paths = []\n",
    "for f in feed:\n",
    "    for m in f[\"_meta\"]:\n",
    "        if m[\"n\"]==\"kmlfile\":\n",
    "            geo_paths.append(m[\"v\"])\n",
    "geo_paths"
   ]
  },
  {
   "cell_type": "code",
   "execution_count": 6,
   "id": "7ef0a132",
   "metadata": {},
   "outputs": [],
   "source": [
    "import kml2geojson\n",
    "import re\n",
    "from io import StringIO\n",
    "import os\n",
    "import json\n",
    "\n",
    "\n",
    "WRC_ASSETS_PATH = \"https://webapps2.wrc.com/2020/web\"\n",
    "WRC_KML_PATH = WRC_ASSETS_PATH + \"/live/kml/{kmlfile}.xml\"\n",
    "\n",
    "geodir = \"geodir\"\n",
    "if not os.path.exists(geodir):\n",
    "    os.makedirs(geodir)\n",
    "\n",
    "for geo_path in geo_paths:\n",
    "    kmlurl = WRC_KML_PATH.format(kmlfile=geo_path)\n",
    "    text = StringIO(\n",
    "            re.sub(\n",
    "                r\"[\\u200b\\u200e\\u200f]\",\n",
    "                \"\",\n",
    "                requests.get(kmlurl).content.decode(\"utf-8\"),\n",
    "            )\n",
    "        )\n",
    "    with open(f\"{geodir}/{geo_path}.json\", \"w\") as f:\n",
    "        json.dump(kml2geojson.main.convert(text), f)"
   ]
  },
  {
   "cell_type": "code",
   "execution_count": null,
   "id": "de22be6e",
   "metadata": {},
   "outputs": [],
   "source": []
  }
 ],
 "metadata": {
  "kernelspec": {
   "display_name": "Python 3",
   "language": "python",
   "name": "python3"
  },
  "language_info": {
   "codemirror_mode": {
    "name": "ipython",
    "version": 3
   },
   "file_extension": ".py",
   "mimetype": "text/x-python",
   "name": "python",
   "nbconvert_exporter": "python",
   "pygments_lexer": "ipython3",
   "version": "3.11.0"
  }
 },
 "nbformat": 4,
 "nbformat_minor": 5
}
